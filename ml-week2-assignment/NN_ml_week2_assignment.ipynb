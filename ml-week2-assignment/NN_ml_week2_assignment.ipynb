{
  "nbformat": 4,
  "nbformat_minor": 0,
  "metadata": {
    "colab": {
      "provenance": []
    },
    "kernelspec": {
      "name": "python3",
      "display_name": "Python 3"
    },
    "language_info": {
      "name": "python"
    }
  },
  "cells": [
    {
      "cell_type": "code",
      "source": [
        "import numpy as np\n",
        "import tensorflow as tf\n",
        "from tensorflow import keras\n",
        "from tensorflow.keras.models import Sequential\n",
        "import matplotlib.pyplot as plt\n",
        "from tensorflow.keras.preprocessing.image import img_to_array, load_img\n",
        "from sklearn.model_selection import train_test_split"
      ],
      "metadata": {
        "id": "NFna_aS9RnRN"
      },
      "execution_count": 25,
      "outputs": []
    },
    {
      "cell_type": "markdown",
      "source": [
        "### Extracting the files/datasets"
      ],
      "metadata": {
        "id": "ZkPKJjE_S2F6"
      }
    },
    {
      "cell_type": "code",
      "execution_count": 2,
      "metadata": {
        "id": "i9ZWLzZoRd8S",
        "colab": {
          "base_uri": "https://localhost:8080/"
        },
        "outputId": "b40bb2b3-5939-4a51-dabe-5c33e96d7b20"
      },
      "outputs": [
        {
          "output_type": "stream",
          "name": "stdout",
          "text": [
            "['.config', 'Bart', 'homer_bart.zip', 'Homer', 'sample_data']\n"
          ]
        }
      ],
      "source": [
        "import zipfile\n",
        "import os\n",
        "\n",
        "zip_file_name = '/content/homer_bart.zip'\n",
        "\n",
        "# Extract the contents\n",
        "with zipfile.ZipFile(zip_file_name, 'r') as zip_ref:\n",
        "    zip_ref.extractall()\n",
        "\n",
        "# List the extracted files\n",
        "extracted_files = os.listdir()\n",
        "print(extracted_files)"
      ]
    },
    {
      "cell_type": "code",
      "source": [
        "# Define paths\n",
        "base_dir = '/content/'\n",
        "homer_dir = os.path.join(base_dir, 'Homer')\n",
        "bart_dir = os.path.join(base_dir, 'Bart')\n",
        "\n",
        "\n",
        "# Create directories\n",
        "train_dir = os.path.join(base_dir, 'train')\n",
        "test_dir = os.path.join(base_dir, 'test')\n",
        "\n",
        "\n",
        "train_homer_dir = os.path.join(train_dir, 'homer')\n",
        "train_bart_dir = os.path.join(train_dir, 'bart')\n",
        "test_homer_dir = os.path.join(test_dir, 'homer')\n",
        "test_bart_dir = os.path.join(test_dir, 'bart')\n",
        "\n",
        "\n",
        "os.makedirs(train_homer_dir, exist_ok=True)\n",
        "os.makedirs(train_bart_dir, exist_ok=True)\n",
        "os.makedirs(test_homer_dir, exist_ok=True)\n",
        "os.makedirs(test_bart_dir, exist_ok=True)\n",
        "\n"
      ],
      "metadata": {
        "id": "4sGLw8xLVs-N"
      },
      "execution_count": 5,
      "outputs": []
    },
    {
      "cell_type": "code",
      "source": [
        "import shutil\n",
        "import random\n",
        "\n",
        "\n",
        "# Function to split data\n",
        "def split_data(source_dir, train_dir, test_dir, split_size=0.9):\n",
        "    files = os.listdir(source_dir)\n",
        "    random.shuffle(files)\n",
        "    split_idx = int(len(files) * split_size)\n",
        "    train_files = files[:split_idx]\n",
        "    test_files = files[split_idx:]\n",
        "\n",
        "    for file in train_files:\n",
        "        shutil.copy(os.path.join(source_dir, file), train_dir)\n",
        "\n",
        "    for file in test_files:\n",
        "        shutil.copy(os.path.join(source_dir, file), test_dir)\n",
        "\n",
        "# Split the data\n",
        "split_data(homer_dir, train_homer_dir, test_homer_dir)\n",
        "split_data(bart_dir, train_bart_dir, test_bart_dir)"
      ],
      "metadata": {
        "id": "7HcjhogPVs6V"
      },
      "execution_count": 6,
      "outputs": []
    },
    {
      "cell_type": "code",
      "source": [
        "files = os.listdir(test_homer_dir)\n",
        "len(files)"
      ],
      "metadata": {
        "colab": {
          "base_uri": "https://localhost:8080/"
        },
        "id": "IktB9GHPdsuK",
        "outputId": "2ed96207-1121-4715-a1cc-c47705beead8"
      },
      "execution_count": 10,
      "outputs": [
        {
          "output_type": "execute_result",
          "data": {
            "text/plain": [
              "11"
            ]
          },
          "metadata": {},
          "execution_count": 10
        }
      ]
    },
    {
      "cell_type": "markdown",
      "source": [
        "### Image Augmentation resizing"
      ],
      "metadata": {
        "id": "ohV1lOd_Yv1P"
      }
    },
    {
      "cell_type": "code",
      "source": [
        "from tensorflow.keras.preprocessing.image import ImageDataGenerator\n",
        "\n",
        "\n",
        "# ImageDataGenerator for data augmentation and rescaling\n",
        "train_datagen = ImageDataGenerator(rescale=1./255)\n",
        "\n",
        "test_datagen = ImageDataGenerator(rescale=1./255)\n",
        "\n",
        "# Flow from directory\n",
        "train_generator = train_datagen.flow_from_directory(\n",
        "    train_dir,\n",
        "    target_size=(64, 64),\n",
        "    batch_size=32,\n",
        "    class_mode='binary'\n",
        ")\n",
        "\n",
        "test_generator = test_datagen.flow_from_directory(\n",
        "    test_dir,\n",
        "    target_size=(64, 64),\n",
        "    batch_size=32,\n",
        "    class_mode='binary'\n",
        ")"
      ],
      "metadata": {
        "colab": {
          "base_uri": "https://localhost:8080/"
        },
        "id": "5wQSD6znVs0m",
        "outputId": "714b1ffd-1ccf-41ab-cfff-b44e6feae7a4"
      },
      "execution_count": 11,
      "outputs": [
        {
          "output_type": "stream",
          "name": "stdout",
          "text": [
            "Found 242 images belonging to 2 classes.\n",
            "Found 27 images belonging to 2 classes.\n"
          ]
        }
      ]
    },
    {
      "cell_type": "markdown",
      "source": [
        "### Build the model"
      ],
      "metadata": {
        "id": "uZEkvIeZgnCg"
      }
    },
    {
      "cell_type": "code",
      "source": [
        "model = Sequential([\n",
        "    keras.layers.Flatten(input_shape=(64, 64, 3)),\n",
        "    keras.layers.Dense(512, activation='relu'),\n",
        "    keras.layers.Dense(256, activation='relu'),\n",
        "    keras.layers.Dense(1, activation='sigmoid')\n",
        "])\n",
        "\n",
        "model.compile(\n",
        "    loss='binary_crossentropy',\n",
        "    optimizer=keras.optimizers.Adam(learning_rate=0.001),\n",
        "    metrics=['accuracy']\n",
        ")\n",
        "\n",
        "model.summary()"
      ],
      "metadata": {
        "colab": {
          "base_uri": "https://localhost:8080/"
        },
        "id": "Km-cuJZ9Vswr",
        "outputId": "c845721a-4515-452b-deac-040a9b3c252f"
      },
      "execution_count": 17,
      "outputs": [
        {
          "output_type": "stream",
          "name": "stdout",
          "text": [
            "Model: \"sequential_2\"\n",
            "_________________________________________________________________\n",
            " Layer (type)                Output Shape              Param #   \n",
            "=================================================================\n",
            " flatten_2 (Flatten)         (None, 12288)             0         \n",
            "                                                                 \n",
            " dense_6 (Dense)             (None, 512)               6291968   \n",
            "                                                                 \n",
            " dense_7 (Dense)             (None, 256)               131328    \n",
            "                                                                 \n",
            " dense_8 (Dense)             (None, 1)                 257       \n",
            "                                                                 \n",
            "=================================================================\n",
            "Total params: 6423553 (24.50 MB)\n",
            "Trainable params: 6423553 (24.50 MB)\n",
            "Non-trainable params: 0 (0.00 Byte)\n",
            "_________________________________________________________________\n"
          ]
        }
      ]
    },
    {
      "cell_type": "markdown",
      "source": [
        "### Training the model"
      ],
      "metadata": {
        "id": "jT6LZIDtnZMP"
      }
    },
    {
      "cell_type": "code",
      "source": [
        "history = model.fit(\n",
        "    train_generator,\n",
        "    steps_per_epoch=train_generator.samples // train_generator.batch_size,\n",
        "    epochs=30\n",
        ")\n"
      ],
      "metadata": {
        "colab": {
          "base_uri": "https://localhost:8080/"
        },
        "id": "sBmLDr_eVssA",
        "outputId": "4c722735-ac5c-4919-9de3-4d3c9fe8085b"
      },
      "execution_count": 18,
      "outputs": [
        {
          "output_type": "stream",
          "name": "stdout",
          "text": [
            "Epoch 1/30\n",
            "7/7 [==============================] - 3s 206ms/step - loss: 5.0673 - accuracy: 0.5048\n",
            "Epoch 2/30\n",
            "7/7 [==============================] - 1s 186ms/step - loss: 3.1893 - accuracy: 0.5048\n",
            "Epoch 3/30\n",
            "7/7 [==============================] - 1s 94ms/step - loss: 2.2021 - accuracy: 0.5571\n",
            "Epoch 4/30\n",
            "7/7 [==============================] - 1s 99ms/step - loss: 1.1965 - accuracy: 0.5905\n",
            "Epoch 5/30\n",
            "7/7 [==============================] - 1s 111ms/step - loss: 0.8172 - accuracy: 0.6238\n",
            "Epoch 6/30\n",
            "7/7 [==============================] - 1s 93ms/step - loss: 0.5825 - accuracy: 0.7476\n",
            "Epoch 7/30\n",
            "7/7 [==============================] - 1s 88ms/step - loss: 0.6544 - accuracy: 0.7238\n",
            "Epoch 8/30\n",
            "7/7 [==============================] - 1s 99ms/step - loss: 0.6076 - accuracy: 0.7476\n",
            "Epoch 9/30\n",
            "7/7 [==============================] - 1s 103ms/step - loss: 0.7356 - accuracy: 0.6524\n",
            "Epoch 10/30\n",
            "7/7 [==============================] - 1s 108ms/step - loss: 0.4718 - accuracy: 0.7857\n",
            "Epoch 11/30\n",
            "7/7 [==============================] - 1s 106ms/step - loss: 0.3668 - accuracy: 0.8429\n",
            "Epoch 12/30\n",
            "7/7 [==============================] - 1s 103ms/step - loss: 0.3462 - accuracy: 0.8524\n",
            "Epoch 13/30\n",
            "7/7 [==============================] - 1s 155ms/step - loss: 0.4129 - accuracy: 0.8286\n",
            "Epoch 14/30\n",
            "7/7 [==============================] - 1s 152ms/step - loss: 0.3011 - accuracy: 0.8619\n",
            "Epoch 15/30\n",
            "7/7 [==============================] - 1s 177ms/step - loss: 0.3548 - accuracy: 0.8333\n",
            "Epoch 16/30\n",
            "7/7 [==============================] - 1s 95ms/step - loss: 0.3323 - accuracy: 0.8286\n",
            "Epoch 17/30\n",
            "7/7 [==============================] - 1s 131ms/step - loss: 0.2488 - accuracy: 0.8810\n",
            "Epoch 18/30\n",
            "7/7 [==============================] - 1s 101ms/step - loss: 0.1993 - accuracy: 0.9286\n",
            "Epoch 19/30\n",
            "7/7 [==============================] - 1s 94ms/step - loss: 0.1813 - accuracy: 0.9619\n",
            "Epoch 20/30\n",
            "7/7 [==============================] - 1s 85ms/step - loss: 0.1999 - accuracy: 0.9381\n",
            "Epoch 21/30\n",
            "7/7 [==============================] - 1s 87ms/step - loss: 0.3258 - accuracy: 0.8476\n",
            "Epoch 22/30\n",
            "7/7 [==============================] - 1s 93ms/step - loss: 0.1580 - accuracy: 0.9619\n",
            "Epoch 23/30\n",
            "7/7 [==============================] - 1s 96ms/step - loss: 0.1616 - accuracy: 0.9381\n",
            "Epoch 24/30\n",
            "7/7 [==============================] - 1s 99ms/step - loss: 0.1903 - accuracy: 0.9095\n",
            "Epoch 25/30\n",
            "7/7 [==============================] - 1s 98ms/step - loss: 0.2315 - accuracy: 0.8810\n",
            "Epoch 26/30\n",
            "7/7 [==============================] - 1s 154ms/step - loss: 0.2686 - accuracy: 0.8661\n",
            "Epoch 27/30\n",
            "7/7 [==============================] - 1s 141ms/step - loss: 0.1390 - accuracy: 0.9667\n",
            "Epoch 28/30\n",
            "7/7 [==============================] - 1s 97ms/step - loss: 0.1098 - accuracy: 0.9643\n",
            "Epoch 29/30\n",
            "7/7 [==============================] - 1s 99ms/step - loss: 0.0846 - accuracy: 0.9810\n",
            "Epoch 30/30\n",
            "7/7 [==============================] - 1s 96ms/step - loss: 0.0835 - accuracy: 0.9905\n"
          ]
        }
      ]
    },
    {
      "cell_type": "markdown",
      "source": [
        "### Model Evaluation\n"
      ],
      "metadata": {
        "id": "uSaeCh-infGU"
      }
    },
    {
      "cell_type": "code",
      "source": [
        "acc = history.history['accuracy']\n",
        "loss = history.history['loss']\n",
        "\n",
        "epochs = range(len(acc))\n",
        "\n",
        "plt.plot(epochs, acc, 'r', label='Training accuracy')\n",
        "plt.title('Training accuracy')\n",
        "plt.legend()\n",
        "\n",
        "plt.figure()\n",
        "\n",
        "plt.plot(epochs, loss, 'r', label='Training loss')\n",
        "plt.title('Training loss')\n",
        "plt.legend()"
      ],
      "metadata": {
        "colab": {
          "base_uri": "https://localhost:8080/",
          "height": 905
        },
        "id": "uBJ6b_1HVsfx",
        "outputId": "aa6dad56-6bb8-4c8e-a198-f4b94913ed06"
      },
      "execution_count": 19,
      "outputs": [
        {
          "output_type": "execute_result",
          "data": {
            "text/plain": [
              "<matplotlib.legend.Legend at 0x7dd788767430>"
            ]
          },
          "metadata": {},
          "execution_count": 19
        },
        {
          "output_type": "display_data",
          "data": {
            "text/plain": [
              "<Figure size 640x480 with 1 Axes>"
            ],
            "image/png": "[encoded data removed]"
          },
          "metadata": {}
        },
        {
          "output_type": "display_data",
          "data": {
            "text/plain": [
              "<Figure size 640x480 with 1 Axes>"
            ],
            "image/png": "[encoded data removed]"
          },
          "metadata": {}
        }
      ]
    },
    {
      "cell_type": "markdown",
      "source": [
        "### Test data - Accuracy"
      ],
      "metadata": {
        "id": "mo-37yQioSgb"
      }
    },
    {
      "cell_type": "code",
      "source": [
        "# Evaluate the model\n",
        "test_loss, test_accuracy = model.evaluate(test_generator)\n",
        "\n",
        "print(f'Test Loss: {test_loss}')\n",
        "print(f'Test Accuracy: {test_accuracy}')"
      ],
      "metadata": {
        "colab": {
          "base_uri": "https://localhost:8080/"
        },
        "id": "RqefxCVnoWx3",
        "outputId": "bacb31e0-5bc5-42ad-b2e9-cda4f1028072"
      },
      "execution_count": 21,
      "outputs": [
        {
          "output_type": "stream",
          "name": "stdout",
          "text": [
            "1/1 [==============================] - 0s 212ms/step - loss: 0.8569 - accuracy: 0.6667\n",
            "Test Loss: 0.8568564057350159\n",
            "Test Accuracy: 0.6666666865348816\n"
          ]
        }
      ]
    },
    {
      "cell_type": "markdown",
      "source": [],
      "metadata": {
        "id": "wTyMYsseVsI3"
      }
    },
    {
      "cell_type": "markdown",
      "source": [
        "### Convert all images to grayscale and split it for training"
      ],
      "metadata": {
        "id": "-6Kv2W6nqcd0"
      }
    },
    {
      "cell_type": "code",
      "source": [
        "# Function to load and preprocess images\n",
        "def load_images(directory):\n",
        "    images = []\n",
        "    labels = []\n",
        "    for filename in os.listdir(directory):\n",
        "        if filename.endswith('.bmp'):\n",
        "            img_path = os.path.join(directory, filename)\n",
        "            image = load_img(img_path, color_mode='grayscale', target_size=(64, 64))\n",
        "            image = img_to_array(image)\n",
        "            images.append(image)\n",
        "            labels.append(0 if 'Homer' in directory else 1)  # Assuming homer folder is labeled as 0, dog folder as 1\n",
        "    return np.array(images), np.array(labels)\n",
        "\n",
        "# Load cat and dog images\n",
        "homer_images, homer_labels = load_images(homer_dir)\n",
        "bart_images, bart_labels = load_images(bart_dir)\n",
        "\n",
        "# Combine cat and dog images and labels\n",
        "images = np.concatenate((homer_images, bart_images), axis=0)\n",
        "labels = np.concatenate((homer_labels, bart_labels), axis=0)\n",
        "\n",
        "# Split data into train and test sets (with no validation set)\n",
        "train_images, test_images, train_labels, test_labels = train_test_split(images, labels, test_size=0.1, random_state=42)\n",
        "\n",
        "# Normalize pixel values to [0, 1]\n",
        "train_images = train_images / 255.0\n",
        "test_images = test_images / 255.0\n"
      ],
      "metadata": {
        "id": "LDSMo3tdqkBY"
      },
      "execution_count": 40,
      "outputs": []
    },
    {
      "cell_type": "code",
      "source": [
        "len(train_images),len(train_labels),train_labels,test_labels"
      ],
      "metadata": {
        "id": "zSDG6VXIq2H9"
      },
      "execution_count": null,
      "outputs": []
    },
    {
      "cell_type": "markdown",
      "source": [
        "### Build the model and train"
      ],
      "metadata": {
        "id": "2V_bdPDFttJh"
      }
    },
    {
      "cell_type": "code",
      "source": [
        "# model = Sequential([\n",
        "#     keras.layers.Flatten(input_shape=(64, 64, 1)),\n",
        "#     keras.layers.Dense(512, activation='relu'),\n",
        "#     keras.layers.Dense(256, activation='relu'),\n",
        "#     keras.layers.Dense(1, activation='sigmoid')\n",
        "# ])\n",
        "\n",
        "def model1():\n",
        "  inputs = keras.Input(shape=(64,64,1))\n",
        "  x = keras.layers.Flatten()(inputs)\n",
        "  x = keras.layers.Dense(512)(x)\n",
        "  x = keras.layers.Dropout(0.5)(x)\n",
        "  x = keras.layers.BatchNormalization()(x)\n",
        "  x = keras.activations.relu(x)\n",
        "  x = keras.layers.Dense(256)(x)\n",
        "  x = keras.layers.Dropout(0.5)(x)\n",
        "  x = keras.layers.BatchNormalization()(x)\n",
        "  x = keras.activations.relu(x)\n",
        "  x = keras.layers.Dense(128)(x)\n",
        "  x = keras.layers.BatchNormalization()(x)\n",
        "  x = keras.activations.relu(x)\n",
        "  outputs = keras.layers.Dense(1, activation='sigmoid')(x)\n",
        "  model = keras.Model(inputs=inputs, outputs=outputs)\n",
        "  return model\n",
        "\n",
        "model = model1()\n",
        "\n",
        "# inputs = keras.Input(shape=(64,64,1))\n",
        "# x = keras.layers.Dense(512)(inputs)\n",
        "# x = keras.layers.BatchNormalization()(x)\n",
        "# x = keras.activations.relu(x)\n",
        "# x = keras.layers.Dense(256)(x)\n",
        "# x = keras.layers.BatchNormalization()(x)\n",
        "# x = keras.activations.relu(x)\n",
        "# output = keras.layers.Dense(1, activation='sigmoid')\n",
        "# model = keras.Model(inputs=inputs, outputs=output)\n",
        "\n",
        "model.compile(\n",
        "    loss='binary_crossentropy',\n",
        "    optimizer=keras.optimizers.Adam(learning_rate=0.0001),\n",
        "    metrics=['accuracy']\n",
        ")\n",
        "\n",
        "model.summary()\n"
      ],
      "metadata": {
        "colab": {
          "base_uri": "https://localhost:8080/"
        },
        "id": "GILOEVpwq2At",
        "outputId": "5b775131-0c1d-4e47-a6a1-1863ee7a0721"
      },
      "execution_count": 193,
      "outputs": [
        {
          "output_type": "stream",
          "name": "stdout",
          "text": [
            "Model: \"model_18\"\n",
            "_________________________________________________________________\n",
            " Layer (type)                Output Shape              Param #   \n",
            "=================================================================\n",
            " input_24 (InputLayer)       [(None, 64, 64, 1)]       0         \n",
            "                                                                 \n",
            " flatten_29 (Flatten)        (None, 4096)              0         \n",
            "                                                                 \n",
            " dense_98 (Dense)            (None, 512)               2097664   \n",
            "                                                                 \n",
            " dropout_24 (Dropout)        (None, 512)               0         \n",
            "                                                                 \n",
            " batch_normalization_44 (Ba  (None, 512)               2048      \n",
            " tchNormalization)                                               \n",
            "                                                                 \n",
            " tf.nn.relu_43 (TFOpLambda)  (None, 512)               0         \n",
            "                                                                 \n",
            " dense_99 (Dense)            (None, 256)               131328    \n",
            "                                                                 \n",
            " dropout_25 (Dropout)        (None, 256)               0         \n",
            "                                                                 \n",
            " batch_normalization_45 (Ba  (None, 256)               1024      \n",
            " tchNormalization)                                               \n",
            "                                                                 \n",
            " tf.nn.relu_44 (TFOpLambda)  (None, 256)               0         \n",
            "                                                                 \n",
            " dense_100 (Dense)           (None, 128)               32896     \n",
            "                                                                 \n",
            " batch_normalization_46 (Ba  (None, 128)               512       \n",
            " tchNormalization)                                               \n",
            "                                                                 \n",
            " tf.nn.relu_45 (TFOpLambda)  (None, 128)               0         \n",
            "                                                                 \n",
            " dense_101 (Dense)           (None, 1)                 129       \n",
            "                                                                 \n",
            "=================================================================\n",
            "Total params: 2265601 (8.64 MB)\n",
            "Trainable params: 2263809 (8.64 MB)\n",
            "Non-trainable params: 1792 (7.00 KB)\n",
            "_________________________________________________________________\n"
          ]
        }
      ]
    },
    {
      "cell_type": "code",
      "source": [
        "# Train the model\n",
        "model.fit(train_images, train_labels, epochs=60, batch_size=32, verbose=1)\n"
      ],
      "metadata": {
        "colab": {
          "base_uri": "https://localhost:8080/"
        },
        "id": "A7OwiXH-q16b",
        "outputId": "ee46a496-9b96-4352-ee28-b8f34a3251e2"
      },
      "execution_count": 194,
      "outputs": [
        {
          "output_type": "stream",
          "name": "stdout",
          "text": [
            "Epoch 1/60\n",
            "8/8 [==============================] - 2s 31ms/step - loss: 0.7013 - accuracy: 0.5950\n",
            "Epoch 2/60\n",
            "8/8 [==============================] - 0s 28ms/step - loss: 0.7431 - accuracy: 0.5579\n",
            "Epoch 3/60\n",
            "8/8 [==============================] - 0s 30ms/step - loss: 0.7270 - accuracy: 0.5702\n",
            "Epoch 4/60\n",
            "8/8 [==============================] - 0s 30ms/step - loss: 0.6813 - accuracy: 0.6281\n",
            "Epoch 5/60\n",
            "8/8 [==============================] - 0s 35ms/step - loss: 0.7138 - accuracy: 0.5702\n",
            "Epoch 6/60\n",
            "8/8 [==============================] - 0s 29ms/step - loss: 0.7025 - accuracy: 0.6074\n",
            "Epoch 7/60\n",
            "8/8 [==============================] - 0s 29ms/step - loss: 0.6996 - accuracy: 0.5620\n",
            "Epoch 8/60\n",
            "8/8 [==============================] - 0s 29ms/step - loss: 0.5857 - accuracy: 0.6529\n",
            "Epoch 9/60\n",
            "8/8 [==============================] - 0s 34ms/step - loss: 0.6780 - accuracy: 0.6157\n",
            "Epoch 10/60\n",
            "8/8 [==============================] - 0s 29ms/step - loss: 0.6674 - accuracy: 0.6198\n",
            "Epoch 11/60\n",
            "8/8 [==============================] - 0s 28ms/step - loss: 0.5917 - accuracy: 0.6777\n",
            "Epoch 12/60\n",
            "8/8 [==============================] - 0s 30ms/step - loss: 0.6253 - accuracy: 0.6612\n",
            "Epoch 13/60\n",
            "8/8 [==============================] - 0s 34ms/step - loss: 0.6089 - accuracy: 0.6240\n",
            "Epoch 14/60\n",
            "8/8 [==============================] - 0s 30ms/step - loss: 0.6096 - accuracy: 0.6818\n",
            "Epoch 15/60\n",
            "8/8 [==============================] - 0s 29ms/step - loss: 0.5812 - accuracy: 0.6818\n",
            "Epoch 16/60\n",
            "8/8 [==============================] - 0s 39ms/step - loss: 0.6468 - accuracy: 0.6116\n",
            "Epoch 17/60\n",
            "8/8 [==============================] - 0s 45ms/step - loss: 0.5791 - accuracy: 0.6901\n",
            "Epoch 18/60\n",
            "8/8 [==============================] - 0s 38ms/step - loss: 0.6094 - accuracy: 0.6570\n",
            "Epoch 19/60\n",
            "8/8 [==============================] - 0s 39ms/step - loss: 0.5521 - accuracy: 0.7149\n",
            "Epoch 20/60\n",
            "8/8 [==============================] - 0s 39ms/step - loss: 0.5808 - accuracy: 0.7149\n",
            "Epoch 21/60\n",
            "8/8 [==============================] - 0s 40ms/step - loss: 0.5860 - accuracy: 0.7190\n",
            "Epoch 22/60\n",
            "8/8 [==============================] - 0s 40ms/step - loss: 0.5666 - accuracy: 0.7149\n",
            "Epoch 23/60\n",
            "8/8 [==============================] - 0s 45ms/step - loss: 0.5403 - accuracy: 0.7438\n",
            "Epoch 24/60\n",
            "8/8 [==============================] - 0s 40ms/step - loss: 0.5405 - accuracy: 0.7107\n",
            "Epoch 25/60\n",
            "8/8 [==============================] - 0s 42ms/step - loss: 0.5520 - accuracy: 0.7190\n",
            "Epoch 26/60\n",
            "8/8 [==============================] - 0s 46ms/step - loss: 0.5530 - accuracy: 0.7025\n",
            "Epoch 27/60\n",
            "8/8 [==============================] - 0s 47ms/step - loss: 0.5426 - accuracy: 0.7273\n",
            "Epoch 28/60\n",
            "8/8 [==============================] - 0s 29ms/step - loss: 0.5303 - accuracy: 0.7273\n",
            "Epoch 29/60\n",
            "8/8 [==============================] - 0s 32ms/step - loss: 0.5182 - accuracy: 0.7521\n",
            "Epoch 30/60\n",
            "8/8 [==============================] - 0s 30ms/step - loss: 0.5141 - accuracy: 0.7438\n",
            "Epoch 31/60\n",
            "8/8 [==============================] - 0s 29ms/step - loss: 0.4903 - accuracy: 0.7562\n",
            "Epoch 32/60\n",
            "8/8 [==============================] - 0s 29ms/step - loss: 0.5826 - accuracy: 0.6736\n",
            "Epoch 33/60\n",
            "8/8 [==============================] - 0s 32ms/step - loss: 0.4803 - accuracy: 0.7686\n",
            "Epoch 34/60\n",
            "8/8 [==============================] - 0s 29ms/step - loss: 0.4428 - accuracy: 0.8099\n",
            "Epoch 35/60\n",
            "8/8 [==============================] - 0s 29ms/step - loss: 0.4586 - accuracy: 0.8017\n",
            "Epoch 36/60\n",
            "8/8 [==============================] - 0s 30ms/step - loss: 0.4378 - accuracy: 0.7934\n",
            "Epoch 37/60\n",
            "8/8 [==============================] - 0s 34ms/step - loss: 0.4395 - accuracy: 0.8182\n",
            "Epoch 38/60\n",
            "8/8 [==============================] - 0s 29ms/step - loss: 0.4561 - accuracy: 0.8099\n",
            "Epoch 39/60\n",
            "8/8 [==============================] - 0s 30ms/step - loss: 0.4097 - accuracy: 0.8140\n",
            "Epoch 40/60\n",
            "8/8 [==============================] - 0s 29ms/step - loss: 0.4540 - accuracy: 0.7934\n",
            "Epoch 41/60\n",
            "8/8 [==============================] - 0s 33ms/step - loss: 0.3998 - accuracy: 0.8264\n",
            "Epoch 42/60\n",
            "8/8 [==============================] - 0s 29ms/step - loss: 0.3703 - accuracy: 0.8636\n",
            "Epoch 43/60\n",
            "8/8 [==============================] - 0s 30ms/step - loss: 0.3837 - accuracy: 0.8512\n",
            "Epoch 44/60\n",
            "8/8 [==============================] - 0s 30ms/step - loss: 0.3900 - accuracy: 0.8430\n",
            "Epoch 45/60\n",
            "8/8 [==============================] - 0s 32ms/step - loss: 0.3784 - accuracy: 0.8512\n",
            "Epoch 46/60\n",
            "8/8 [==============================] - 0s 28ms/step - loss: 0.3936 - accuracy: 0.8347\n",
            "Epoch 47/60\n",
            "8/8 [==============================] - 0s 32ms/step - loss: 0.3414 - accuracy: 0.8595\n",
            "Epoch 48/60\n",
            "8/8 [==============================] - 0s 30ms/step - loss: 0.3456 - accuracy: 0.8760\n",
            "Epoch 49/60\n",
            "8/8 [==============================] - 0s 35ms/step - loss: 0.3122 - accuracy: 0.8926\n",
            "Epoch 50/60\n",
            "8/8 [==============================] - 0s 30ms/step - loss: 0.3131 - accuracy: 0.8884\n",
            "Epoch 51/60\n",
            "8/8 [==============================] - 0s 31ms/step - loss: 0.3138 - accuracy: 0.8719\n",
            "Epoch 52/60\n",
            "8/8 [==============================] - 0s 28ms/step - loss: 0.2861 - accuracy: 0.8926\n",
            "Epoch 53/60\n",
            "8/8 [==============================] - 0s 32ms/step - loss: 0.2942 - accuracy: 0.8967\n",
            "Epoch 54/60\n",
            "8/8 [==============================] - 0s 29ms/step - loss: 0.2936 - accuracy: 0.8719\n",
            "Epoch 55/60\n",
            "8/8 [==============================] - 0s 30ms/step - loss: 0.2667 - accuracy: 0.9132\n",
            "Epoch 56/60\n",
            "8/8 [==============================] - 0s 29ms/step - loss: 0.2736 - accuracy: 0.8802\n",
            "Epoch 57/60\n",
            "8/8 [==============================] - 0s 31ms/step - loss: 0.2610 - accuracy: 0.9132\n",
            "Epoch 58/60\n",
            "8/8 [==============================] - 0s 30ms/step - loss: 0.2704 - accuracy: 0.9008\n",
            "Epoch 59/60\n",
            "8/8 [==============================] - 0s 31ms/step - loss: 0.2499 - accuracy: 0.9091\n",
            "Epoch 60/60\n",
            "8/8 [==============================] - 0s 29ms/step - loss: 0.2822 - accuracy: 0.8926\n"
          ]
        },
        {
          "output_type": "execute_result",
          "data": {
            "text/plain": [
              "<keras.src.callbacks.History at 0x7dd774da91b0>"
            ]
          },
          "metadata": {},
          "execution_count": 194
        }
      ]
    },
    {
      "cell_type": "code",
      "source": [
        "# Evaluate the model on the test set\n",
        "test_loss, test_accuracy = model.evaluate(test_images, test_labels, verbose=0)\n",
        "print(f'Test Accuracy: {test_accuracy}')\n"
      ],
      "metadata": {
        "colab": {
          "base_uri": "https://localhost:8080/"
        },
        "id": "QQURVTsOq12y",
        "outputId": "db40d7bd-c677-4b60-92d9-68043d9b1ce8"
      },
      "execution_count": 195,
      "outputs": [
        {
          "output_type": "stream",
          "name": "stdout",
          "text": [
            "Test Accuracy: 0.7407407164573669\n"
          ]
        }
      ]
    },
    {
      "cell_type": "code",
      "source": [],
      "metadata": {
        "id": "TKkX_eqLq1zp"
      },
      "execution_count": null,
      "outputs": []
    },
    {
      "cell_type": "code",
      "source": [],
      "metadata": {
        "id": "N_d06mvSq1vv"
      },
      "execution_count": null,
      "outputs": []
    },
    {
      "cell_type": "code",
      "source": [],
      "metadata": {
        "id": "Pfnk6BEGq1sH"
      },
      "execution_count": null,
      "outputs": []
    }
  ]
}